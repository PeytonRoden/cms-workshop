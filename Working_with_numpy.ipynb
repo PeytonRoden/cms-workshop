{
 "cells": [
  {
   "cell_type": "code",
   "execution_count": 18,
   "id": "786f1876",
   "metadata": {},
   "outputs": [],
   "source": [
    "#Numpy Lesson\n",
    "#this lesson shows how to use numpy\n",
    "\n",
    "import numpy as np\n",
    "import os"
   ]
  },
  {
   "cell_type": "code",
   "execution_count": 61,
   "id": "debf139e",
   "metadata": {},
   "outputs": [],
   "source": [
    "distance_file = os.path.join('data', 'distance_data_headers.csv')\n",
    "distances = np.genfromtxt(distance_file, delimiter=',', skip_header = 0, dtype = \"unicode\")"
   ]
  },
  {
   "cell_type": "code",
   "execution_count": 32,
   "id": "b5cf5900",
   "metadata": {},
   "outputs": [
    {
     "name": "stdout",
     "output_type": "stream",
     "text": [
      "[['Frame' 'THR4_ATP' 'THR4_ASP' 'TYR6_ATP' 'TYR6_ASP']\n",
      " ['1' '8.9542' '5.8024' '11.5478' '9.9557']\n",
      " ['2' '8.6181' '6.0942' '13.9594' '11.6945']\n",
      " ...\n",
      " ['9998' '8.6625' '7.7306' '9.5469' '10.3063']\n",
      " ['9999' '9.2456' '7.8886' '9.8151' '10.7564']\n",
      " ['10000' '8.8135' '7.917' '9.9517' '10.7848']]\n"
     ]
    }
   ],
   "source": [
    "print(distances)"
   ]
  },
  {
   "cell_type": "code",
   "execution_count": 60,
   "id": "b02937af",
   "metadata": {},
   "outputs": [
    {
     "name": "stdout",
     "output_type": "stream",
     "text": [
      "['Frame' 'THR4_ATP' 'THR4_ASP' 'TYR6_ATP' 'TYR6_ASP']\n"
     ]
    }
   ],
   "source": [
    "#we can slice a numpy array\n",
    "headers = distances[0]\n",
    "print(headers)"
   ]
  },
  {
   "cell_type": "code",
   "execution_count": 59,
   "id": "d7a33144",
   "metadata": {},
   "outputs": [
    {
     "data": {
      "text/plain": [
       "array([['1', '8.9542', '5.8024', '11.5478', '9.9557'],\n",
       "       ['2', '8.6181', '6.0942', '13.9594', '11.6945'],\n",
       "       ['3', '9.0066', '6.0637', '13.0924', '11.3043'],\n",
       "       ...,\n",
       "       ['9998', '8.6625', '7.7306', '9.5469', '10.3063'],\n",
       "       ['9999', '9.2456', '7.8886', '9.8151', '10.7564'],\n",
       "       ['10000', '8.8135', '7.917', '9.9517', '10.7848']], dtype='<U8')"
      ]
     },
     "execution_count": 59,
     "metadata": {},
     "output_type": "execute_result"
    }
   ],
   "source": [
    "data = distances[1:]\n",
    "data"
   ]
  },
  {
   "cell_type": "code",
   "execution_count": 53,
   "id": "e1e9a55b",
   "metadata": {},
   "outputs": [],
   "source": [
    "data = data.astype(float)  "
   ]
  },
  {
   "cell_type": "code",
   "execution_count": 69,
   "id": "3af1ab47",
   "metadata": {},
   "outputs": [
    {
     "name": "stdout",
     "output_type": "stream",
     "text": [
      "[[1.00000e+00 8.95420e+00 5.80240e+00 1.15478e+01 9.95570e+00]\n",
      " [2.00000e+00 8.61810e+00 6.09420e+00 1.39594e+01 1.16945e+01]\n",
      " [3.00000e+00 9.00660e+00 6.06370e+00 1.30924e+01 1.13043e+01]\n",
      " ...\n",
      " [9.99800e+03 8.66250e+00 7.73060e+00 9.54690e+00 1.03063e+01]\n",
      " [9.99900e+03 9.24560e+00 7.88860e+00 9.81510e+00 1.07564e+01]\n",
      " [1.00000e+04 8.81350e+00 7.91700e+00 9.95170e+00 1.07848e+01]]\n"
     ]
    }
   ],
   "source": [
    "data = np.genfromtxt(distance_file, delimiter=',', skip_header = 1, dtype = float)\n",
    "print(data)"
   ]
  },
  {
   "cell_type": "code",
   "execution_count": 70,
   "id": "9570869d",
   "metadata": {},
   "outputs": [
    {
     "name": "stdout",
     "output_type": "stream",
     "text": [
      "8.9542\n"
     ]
    }
   ],
   "source": [
    "print(data[0][1])"
   ]
  },
  {
   "cell_type": "code",
   "execution_count": 71,
   "id": "586a422e",
   "metadata": {},
   "outputs": [
    {
     "name": "stdout",
     "output_type": "stream",
     "text": [
      "2.0\n",
      "6.0637\n"
     ]
    }
   ],
   "source": [
    "print(data[1,0])\n",
    "print(data[2,2])"
   ]
  },
  {
   "cell_type": "code",
   "execution_count": 72,
   "id": "a35af828",
   "metadata": {},
   "outputs": [
    {
     "name": "stdout",
     "output_type": "stream",
     "text": [
      "[[ 1.      8.9542  5.8024]\n",
      " [ 2.      8.6181  6.0942]\n",
      " [ 3.      9.0066  6.0637]\n",
      " [ 4.      9.2002  6.0227]\n",
      " [ 5.      9.1294  5.9365]\n",
      " [ 6.      9.0462  6.2553]\n",
      " [ 7.      8.8657  5.9186]\n",
      " [ 8.      9.3256  6.2351]\n",
      " [ 9.      9.4184  6.1993]\n",
      " [10.      9.06    6.0478]]\n"
     ]
    }
   ],
   "source": [
    "small_data = data[0:10, 0:3]\n",
    "print(small_data)"
   ]
  },
  {
   "cell_type": "code",
   "execution_count": 73,
   "id": "4c3da399",
   "metadata": {},
   "outputs": [
    {
     "name": "stdout",
     "output_type": "stream",
     "text": [
      "[6.     9.0462 6.2553]\n",
      "[[8.9542 5.8024]\n",
      " [8.6181 6.0942]\n",
      " [9.0066 6.0637]\n",
      " [9.2002 6.0227]\n",
      " [9.1294 5.9365]\n",
      " [9.0462 6.2553]\n",
      " [8.8657 5.9186]\n",
      " [9.3256 6.2351]\n",
      " [9.4184 6.1993]\n",
      " [9.06   6.0478]]\n"
     ]
    }
   ],
   "source": [
    "print(small_data[5, :])\n",
    "print(small_data[:, 1:])"
   ]
  },
  {
   "cell_type": "code",
   "execution_count": 78,
   "id": "757d0de4",
   "metadata": {},
   "outputs": [
    {
     "name": "stdout",
     "output_type": "stream",
     "text": [
      "10.876950930000001\n"
     ]
    }
   ],
   "source": [
    "#calculating mean of data\n",
    "#data_average = numpy.mean(data-to-take-mean-of)\n",
    "thr4_atp = data[:, 1]\n",
    "thr4_atp_avg = np.mean(thr4_atp)\n",
    "print(thr4_atp_avg)\n"
   ]
  },
  {
   "cell_type": "code",
   "execution_count": 86,
   "id": "a6516306",
   "metadata": {},
   "outputs": [
    {
     "name": "stdout",
     "output_type": "stream",
     "text": [
      "5\n"
     ]
    }
   ],
   "source": [
    "num_columns = len(headers)\n",
    "print(num_columns)"
   ]
  },
  {
   "cell_type": "code",
   "execution_count": 95,
   "id": "b086390e",
   "metadata": {},
   "outputs": [
    {
     "name": "stdout",
     "output_type": "stream",
     "text": [
      "10.876950930000001\n",
      "7.342344959999999\n",
      "11.209791329999998\n",
      "10.9934435\n",
      "Frame average : 5000.500\n",
      "THR4_ATP average : 10.877\n",
      "THR4_ASP average : 7.342\n",
      "TYR6_ATP average : 11.210\n",
      "TYR6_ASP average : 10.993\n"
     ]
    }
   ],
   "source": [
    "#getting each column, except first one and then getting average\n",
    "for column in data.T[1:,:]:\n",
    "    avg = np.mean(column)\n",
    "    print(avg)\n",
    "    \n",
    "#another way\n",
    "for i in range(num_columns):\n",
    "    column = data[:, i]\n",
    "    avg_col = np.mean(column)\n",
    "    print(f\"{headers[i]} average : {avg_col:.3f}\")"
   ]
  },
  {
   "cell_type": "code",
   "execution_count": 97,
   "id": "737945e5",
   "metadata": {},
   "outputs": [],
   "source": [
    "#plotting using matplotlib\n",
    "import matplotlib.pyplot as plt"
   ]
  },
  {
   "cell_type": "code",
   "execution_count": 105,
   "id": "20c78698",
   "metadata": {},
   "outputs": [
    {
     "data": {
      "text/plain": [
       "<matplotlib.legend.Legend at 0x1da4ff76d60>"
      ]
     },
     "execution_count": 105,
     "metadata": {},
     "output_type": "execute_result"
    },
    {
     "data": {
      "image/png": "[encoded data removed]",
      "text/plain": [
       "<Figure size 432x288 with 1 Axes>"
      ]
     },
     "metadata": {
      "needs_background": "light"
     },
     "output_type": "display_data"
    }
   ],
   "source": [
    "#create a new plot\n",
    "plt.figure()\n",
    "plt.xlabel(\"simulation frame\")\n",
    "plt.ylabel(\"distance\")\n",
    "plt.plot(data[:, 1:], label = headers[1:])\n",
    "plt.legend()"
   ]
  },
  {
   "cell_type": "code",
   "execution_count": 109,
   "id": "cd198630",
   "metadata": {},
   "outputs": [
    {
     "data": {
      "image/png": "[encoded data removed]",
      "text/plain": [
       "<Figure size 432x288 with 1 Axes>"
      ]
     },
     "metadata": {
      "needs_background": "light"
     },
     "output_type": "display_data"
    }
   ],
   "source": [
    "#create a better plot\n",
    "plt.figure()\n",
    "plt.xlabel(\"simulation frame\")\n",
    "plt.ylabel(\"distance\")\n",
    "plt.plot(data[:, 1], label = headers[1])\n",
    "plt.legend()\n",
    "plt.savefig(\"myplot.png\", dpi = 300)"
   ]
  },
  {
   "cell_type": "code",
   "execution_count": null,
   "id": "18c16992",
   "metadata": {},
   "outputs": [],
   "source": []
  }
 ],
 "metadata": {
  "kernelspec": {
   "display_name": "Python 3 (ipykernel)",
   "language": "python",
   "name": "python3"
  },
  "language_info": {
   "codemirror_mode": {
    "name": "ipython",
    "version": 3
   },
   "file_extension": ".py",
   "mimetype": "text/x-python",
   "name": "python",
   "nbconvert_exporter": "python",
   "pygments_lexer": "ipython3",
   "version": "3.9.7"
  }
 },
 "nbformat": 4,
 "nbformat_minor": 5
}
